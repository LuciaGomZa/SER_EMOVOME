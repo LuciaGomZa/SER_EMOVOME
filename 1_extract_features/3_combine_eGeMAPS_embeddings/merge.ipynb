{
 "cells": [
  {
   "cell_type": "markdown",
   "id": "5483acdd",
   "metadata": {},
   "source": [
    "# Merge strategy embeddings"
   ]
  },
  {
   "cell_type": "code",
   "execution_count": 1,
   "id": "f6086c4c",
   "metadata": {},
   "outputs": [],
   "source": [
    "import os\n",
    "import numpy as np\n",
    "import time"
   ]
  },
  {
   "cell_type": "code",
   "execution_count": null,
   "id": "4061c9d4",
   "metadata": {},
   "outputs": [],
   "source": [
    "# Recordatorio: para que funcione el codigo, hay que crear a mano las carpetas audio_embeddings_mean, audio_embeddings_max, audio_embeddings_sum"
   ]
  },
  {
   "cell_type": "code",
   "execution_count": 4,
   "id": "d4ab69c1",
   "metadata": {},
   "outputs": [
    {
     "name": "stdout",
     "output_type": "stream",
     "text": [
      "Duration: 0.12 min\n",
      "Duration: 0.26 min\n"
     ]
    }
   ],
   "source": [
    "# =============================================\n",
    "dataset = 'VOSOME'\n",
    "# type_embeddings = 'embeddings30s'\n",
    "type_embeddings = 'embeddings'\n",
    "# =============================================\n",
    "\n",
    "model_ids = [\n",
    "#             \"facebook/wav2vec2-xls-r-300m\", \n",
    "#              \"facebook/wav2vec2-large-xlsr-53\",\n",
    "#              \"facebook/wav2vec2-large-robust\",\n",
    "#              \"facebook/wav2vec2-large-xlsr-53-spanish\",\n",
    "#              \"microsoft/unispeech-sat-large\",\n",
    "#              \"facebook-hubert-large-ll60k\",\n",
    "               \"facebook/hubert-base-ls960\",\n",
    "               \"microsoft/unispeech-sat-base\" \n",
    "            ]\n",
    "for model_name in model_ids:\n",
    "    tic = time.time()\n",
    "    path = 'data/'+dataset+'/'+type_embeddings+'/' + model_name.replace(\"/\",\"-\") + '/audio_embeddings/'\n",
    "    path_save_mean = 'data/'+dataset+'/'+type_embeddings+'/' + model_name.replace(\"/\",\"-\") +'/audio_embeddings_mean/'\n",
    "    path_save_max =  'data/'+dataset+'/'+type_embeddings+'/' + model_name.replace(\"/\",\"-\") +'/audio_embeddings_max/'\n",
    "    path_save_sum =  'data/'+dataset+'/'+type_embeddings+'/' + model_name.replace(\"/\",\"-\") +'/audio_embeddings_sum/'\n",
    "    for file in os.listdir(path):\n",
    "        id_audio = file.split('.')[0]\n",
    "        \n",
    "        emb = np.load(path+file)\n",
    "        emb_reshape = emb.reshape(emb.shape[1],emb.shape[2])\n",
    "        emb_mean = np.mean(emb_reshape,axis=0)\n",
    "        emb_max = np.max(emb_reshape,axis=0)\n",
    "        emb_sum = np.sum(emb_reshape,axis=0)\n",
    "        \n",
    "        with open(path_save_mean+id_audio+'.npy', 'wb') as f:\n",
    "            np.save(f, emb_mean)\n",
    "        with open(path_save_max+id_audio+'.npy', 'wb') as f:\n",
    "            np.save(f, emb_max)\n",
    "        with open(path_save_sum+id_audio+'.npy', 'wb') as f:\n",
    "            np.save(f, emb_sum)\n",
    "\n",
    "    toc = time.time()\n",
    "    print('Duration:',round((toc-tic)/60,2),'min')\n",
    "\n",
    "# Duration: \n",
    "# VOSOME = 0.37 min each, \n",
    "# RAVDESS = 0.08 min each, \n",
    "# IEMOCAP = 2.8 min each"
   ]
  },
  {
   "cell_type": "code",
   "execution_count": null,
   "id": "c5d0d8e4",
   "metadata": {},
   "outputs": [],
   "source": [
    "model = \"speechbrain-x-vector\"\n",
    "path = 'data/'+dataset+'/'+type_embeddings+'/' + model + '/audio_embeddings/'\n",
    "path_save_mean = 'data/'+dataset+'/'+type_embeddings+'/' + model +'/audio_embeddings_mean/'\n",
    "tic = time.time()\n",
    "for file in os.listdir(path):\n",
    "    id_audio = file.split('.')[0]\n",
    "    emb = np.load(path+file)\n",
    "    emb_reshape = emb.reshape(emb.shape[2])    \n",
    "    with open(path_save_mean+id_audio+'.npy', 'wb') as f:\n",
    "        np.save(f, emb_reshape)\n",
    "toc = time.time()\n",
    "print('Duration:',round((toc-tic)/60,2),'min')\n",
    "# Duration: 2.84 min"
   ]
  },
  {
   "cell_type": "markdown",
   "id": "b20826b3",
   "metadata": {},
   "source": [
    "# Ejemplo"
   ]
  },
  {
   "cell_type": "code",
   "execution_count": 3,
   "id": "7c209b80",
   "metadata": {
    "scrolled": false
   },
   "outputs": [
    {
     "name": "stdout",
     "output_type": "stream",
     "text": [
      "facebook/wav2vec2-xls-r-300m\n",
      "(1, 68, 1024)\n",
      "(68, 1024)\n",
      "(1024,)\n",
      "facebook/wav2vec2-large-xlsr-53\n",
      "(1, 68, 1024)\n",
      "(68, 1024)\n",
      "(1024,)\n",
      "facebook/wav2vec2-large-robust\n",
      "(1, 68, 1024)\n",
      "(68, 1024)\n",
      "(1024,)\n",
      "facebook/wav2vec2-large-xlsr-53-spanish\n",
      "(1, 68, 1024)\n",
      "(68, 1024)\n",
      "(1024,)\n",
      "microsoft/unispeech-sat-large\n",
      "(1, 68, 1024)\n",
      "(68, 1024)\n",
      "(1024,)\n",
      "facebook-hubert-large-ll60k\n",
      "(1, 68, 1024)\n",
      "(68, 1024)\n",
      "(1024,)\n"
     ]
    }
   ],
   "source": [
    "# =============================================\n",
    "dataset = 'IEMOCAP'\n",
    "# type_embeddings = 'embeddings30s'\n",
    "type_embeddings = 'embeddings'\n",
    "# =============================================\n",
    "\n",
    "model_ids = [\n",
    "            \"facebook/wav2vec2-xls-r-300m\", \n",
    "             \"facebook/wav2vec2-large-xlsr-53\",\n",
    "             \"facebook/wav2vec2-large-robust\",\n",
    "             \"facebook/wav2vec2-large-xlsr-53-spanish\",\n",
    "             \"microsoft/unispeech-sat-large\",\n",
    "             \"facebook-hubert-large-ll60k\"\n",
    "            ]\n",
    "for model_name in model_ids:\n",
    "    print(model_name)\n",
    "    tic = time.time()\n",
    "    path = 'D:/lugoza/'+dataset+'/'+type_embeddings+'/' + model_name.replace(\"/\",\"-\") + '/audio_embeddings/'\n",
    "    for file in os.listdir(path)[1:2]:\n",
    "        id_audio = file.split('.')[0]\n",
    "        \n",
    "        emb = np.load(path+file)\n",
    "        print(emb.shape)\n",
    "        emb_reshape = emb.reshape(emb.shape[1],emb.shape[2])\n",
    "        print(emb_reshape.shape)\n",
    "        emb_mean = np.mean(emb_reshape,axis=0)\n",
    "        print(emb_mean.shape)\n",
    "        emb_max = np.max(emb_reshape,axis=0)\n",
    "        emb_sum = np.sum(emb_reshape,axis=0)"
   ]
  },
  {
   "cell_type": "code",
   "execution_count": 5,
   "id": "44089bca",
   "metadata": {},
   "outputs": [
    {
     "name": "stdout",
     "output_type": "stream",
     "text": [
      "(1, 1, 512)\n",
      "(512,)\n"
     ]
    }
   ],
   "source": [
    "dataset = 'IEMOCAP'\n",
    "model = \"speechbrain-x-vector\"\n",
    "path = 'D:/lugoza/'+dataset+'/'+type_embeddings+'/' + model + '/audio_embeddings/'\n",
    "for file in os.listdir(path)[0:1]:\n",
    "    id_audio = file.split('.')[0]\n",
    "    emb = np.load(path+file)\n",
    "    print(emb.shape)\n",
    "    emb_reshape = emb.reshape(emb.shape[2])    \n",
    "    print(emb_reshape.shape)"
   ]
  }
 ],
 "metadata": {
  "kernelspec": {
   "display_name": "Python 3 (ipykernel)",
   "language": "python",
   "name": "python3"
  },
  "language_info": {
   "codemirror_mode": {
    "name": "ipython",
    "version": 3
   },
   "file_extension": ".py",
   "mimetype": "text/x-python",
   "name": "python",
   "nbconvert_exporter": "python",
   "pygments_lexer": "ipython3",
   "version": "3.9.12"
  }
 },
 "nbformat": 4,
 "nbformat_minor": 5
}
